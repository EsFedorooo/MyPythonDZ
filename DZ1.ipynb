{
 "cells": [
  {
   "cell_type": "code",
   "execution_count": 1,
   "id": "periodic-driving",
   "metadata": {},
   "outputs": [],
   "source": [
    "# 17(b)\n",
    "import numpy as np\n",
    "\n",
    "n,m = 4,5"
   ]
  },
  {
   "cell_type": "code",
   "execution_count": 2,
   "id": "crucial-following",
   "metadata": {},
   "outputs": [
    {
     "data": {
      "text/plain": [
       "array([[4128860, 6029375, 3801187, 7340124, 7602297],\n",
       "       [7274600, 3342446, 3211321, 7077980, 6422633],\n",
       "       [7536732, 7602281, 2949221, 6357104, 7012451],\n",
       "       [6750305, 7536741, 7209052, 7143541, 7929968]])"
      ]
     },
     "execution_count": 2,
     "metadata": {},
     "output_type": "execute_result"
    }
   ],
   "source": [
    "a = np.empty((n,m), dtype = int)\n",
    "a"
   ]
  },
  {
   "cell_type": "code",
   "execution_count": 3,
   "id": "reduced-burlington",
   "metadata": {},
   "outputs": [
    {
     "data": {
      "text/plain": [
       "7929968"
      ]
     },
     "execution_count": 3,
     "metadata": {},
     "output_type": "execute_result"
    }
   ],
   "source": [
    "np.max(a)         # 1) В цілому"
   ]
  },
  {
   "cell_type": "code",
   "execution_count": 4,
   "id": "mental-clear",
   "metadata": {},
   "outputs": [
    {
     "data": {
      "text/plain": [
       "array([7536732, 7602281, 7209052, 7340124, 7929968])"
      ]
     },
     "execution_count": 4,
     "metadata": {},
     "output_type": "execute_result"
    }
   ],
   "source": [
    "np.max(a, 0)      # 2) По стовпчикам"
   ]
  },
  {
   "cell_type": "code",
   "execution_count": 5,
   "id": "unauthorized-massachusetts",
   "metadata": {},
   "outputs": [
    {
     "data": {
      "text/plain": [
       "array([7602297, 7274600, 7602281, 7929968])"
      ]
     },
     "execution_count": 5,
     "metadata": {},
     "output_type": "execute_result"
    }
   ],
   "source": [
    "np.max(a,1)       # 3) По рядках"
   ]
  },
  {
   "cell_type": "code",
   "execution_count": null,
   "id": "vulnerable-tutorial",
   "metadata": {},
   "outputs": [],
   "source": []
  },
  {
   "cell_type": "code",
   "execution_count": null,
   "id": "guided-bible",
   "metadata": {},
   "outputs": [],
   "source": []
  },
  {
   "cell_type": "code",
   "execution_count": null,
   "id": "saving-savings",
   "metadata": {},
   "outputs": [],
   "source": []
  },
  {
   "cell_type": "code",
   "execution_count": 6,
   "id": "handmade-absence",
   "metadata": {},
   "outputs": [],
   "source": [
    "# 4"
   ]
  },
  {
   "cell_type": "code",
   "execution_count": 17,
   "id": "pointed-stewart",
   "metadata": {},
   "outputs": [
    {
     "data": {
      "text/plain": [
       "array([[0, 0, 0, 0, 0],\n",
       "       [0, 0, 0, 0, 0],\n",
       "       [0, 0, 0, 0, 0],\n",
       "       [0, 0, 0, 0, 0],\n",
       "       [0, 0, 0, 0, 0]])"
      ]
     },
     "execution_count": 17,
     "metadata": {},
     "output_type": "execute_result"
    }
   ],
   "source": [
    "n = 5\n",
    "M2 = np.zeros((n,n), dtype = int)\n",
    "M2"
   ]
  },
  {
   "cell_type": "code",
   "execution_count": 18,
   "id": "consistent-africa",
   "metadata": {},
   "outputs": [
    {
     "data": {
      "text/plain": [
       "array([[1, 0, 0, 0, 0],\n",
       "       [1, 0, 0, 0, 0],\n",
       "       [1, 0, 0, 0, 0],\n",
       "       [1, 0, 0, 0, 0],\n",
       "       [1, 0, 0, 0, 0]])"
      ]
     },
     "execution_count": 18,
     "metadata": {},
     "output_type": "execute_result"
    }
   ],
   "source": [
    "M2.T[0] += 1\n",
    "M2"
   ]
  },
  {
   "cell_type": "code",
   "execution_count": 19,
   "id": "qualified-stuff",
   "metadata": {},
   "outputs": [
    {
     "data": {
      "text/plain": [
       "array([[1, 1, 1, 1, 1],\n",
       "       [1, 0, 0, 0, 0],\n",
       "       [1, 0, 0, 0, 0],\n",
       "       [1, 0, 0, 0, 0],\n",
       "       [1, 0, 0, 0, 0]])"
      ]
     },
     "execution_count": 19,
     "metadata": {},
     "output_type": "execute_result"
    }
   ],
   "source": [
    "M2[0][1:] += 1\n",
    "M2"
   ]
  },
  {
   "cell_type": "code",
   "execution_count": 20,
   "id": "joint-fraction",
   "metadata": {},
   "outputs": [
    {
     "data": {
      "text/plain": [
       "array([[ 1,  1,  1,  1,  1],\n",
       "       [ 1, -1,  0,  0,  0],\n",
       "       [ 1, -2,  1,  0,  0],\n",
       "       [ 1, -3,  3, -1,  0],\n",
       "       [ 1, -4,  6, -4,  1]])"
      ]
     },
     "execution_count": 20,
     "metadata": {},
     "output_type": "execute_result"
    }
   ],
   "source": [
    "for i in range(1, n):\n",
    "    for j in range(1, i+1):\n",
    "        M2[i,j] = -M2[i,j-1]*(i-j+1)//j\n",
    "M2"
   ]
  },
  {
   "cell_type": "code",
   "execution_count": 21,
   "id": "advisory-morrison",
   "metadata": {},
   "outputs": [
    {
     "data": {
      "text/plain": [
       "array([[ 1,  1,  1,  1,  1],\n",
       "       [ 1, -1, -2, -3, -4],\n",
       "       [ 1, -2,  1,  3,  6],\n",
       "       [ 1, -3,  3, -1, -4],\n",
       "       [ 1, -4,  6, -4,  1]])"
      ]
     },
     "execution_count": 21,
     "metadata": {},
     "output_type": "execute_result"
    }
   ],
   "source": [
    "for i in range(1,n-1):\n",
    "    for j in range(i+1,n):\n",
    "        M2[i,j] = -M2[i-1,j]*(j-i+1)//i\n",
    "M2"
   ]
  },
  {
   "cell_type": "code",
   "execution_count": null,
   "id": "quiet-steam",
   "metadata": {},
   "outputs": [],
   "source": []
  },
  {
   "cell_type": "code",
   "execution_count": null,
   "id": "welsh-shakespeare",
   "metadata": {},
   "outputs": [],
   "source": []
  },
  {
   "cell_type": "code",
   "execution_count": null,
   "id": "israeli-bachelor",
   "metadata": {},
   "outputs": [],
   "source": []
  },
  {
   "cell_type": "code",
   "execution_count": 54,
   "id": "collective-newark",
   "metadata": {},
   "outputs": [],
   "source": [
    "# 19 (a)"
   ]
  },
  {
   "cell_type": "code",
   "execution_count": 55,
   "id": "protective-terminology",
   "metadata": {},
   "outputs": [],
   "source": [
    "import numpy as np\n",
    "import matplotlib.pyplot as plt"
   ]
  },
  {
   "cell_type": "code",
   "execution_count": 56,
   "id": "supreme-inflation",
   "metadata": {},
   "outputs": [],
   "source": [
    "def f(x):\n",
    "    u = x*x\n",
    "    return (u*x + 2*u - 3*x - 2) / (u + x -2) "
   ]
  },
  {
   "cell_type": "code",
   "execution_count": 57,
   "id": "chubby-standing",
   "metadata": {},
   "outputs": [
    {
     "data": {
      "text/plain": [
       "array([2. , 2.1, 2.2, 2.3, 2.4, 2.5, 2.6, 2.7, 2.8, 2.9, 3. , 3.1, 3.2,\n",
       "       3.3, 3.4, 3.5, 3.6, 3.7, 3.8, 3.9, 4. , 4.1, 4.2, 4.3, 4.4, 4.5,\n",
       "       4.6, 4.7, 4.8, 4.9, 5. ])"
      ]
     },
     "execution_count": 57,
     "metadata": {},
     "output_type": "execute_result"
    }
   ],
   "source": [
    "a,b = 2,5\n",
    "n = 31\n",
    "x = np.linspace(a, b, n)\n",
    "x"
   ]
  },
  {
   "cell_type": "code",
   "execution_count": 58,
   "id": "tropical-cursor",
   "metadata": {},
   "outputs": [
    {
     "data": {
      "text/plain": [
       "array([2.        , 2.16873614, 2.32698413, 2.47710197, 2.62077922,\n",
       "       2.75925926, 2.89347826, 3.02415519, 3.15185185, 3.27701396,\n",
       "       3.4       , 3.52110177, 3.64055944, 3.7585726 , 3.87530864,\n",
       "       3.99090909, 4.10549451, 4.21916829, 4.3320197 , 4.44412624,\n",
       "       4.55555556, 4.666367  , 4.7766129 , 4.88633959, 4.99558824,\n",
       "       5.1043956 , 5.21279461, 5.32081484, 5.42848297, 5.53582311,\n",
       "       5.64285714])"
      ]
     },
     "execution_count": 58,
     "metadata": {},
     "output_type": "execute_result"
    }
   ],
   "source": [
    "y = f(x)\n",
    "y"
   ]
  },
  {
   "cell_type": "code",
   "execution_count": 59,
   "id": "refined-january",
   "metadata": {},
   "outputs": [
    {
     "data": {
      "image/png": "[encoded data removed]",
      "text/plain": [
       "<Figure size 432x288 with 1 Axes>"
      ]
     },
     "metadata": {
      "needs_background": "light"
     },
     "output_type": "display_data"
    }
   ],
   "source": [
    "plt.plot(x,y,color='green', marker='v')\n",
    "plt.show()"
   ]
  },
  {
   "cell_type": "code",
   "execution_count": null,
   "id": "sweet-closer",
   "metadata": {},
   "outputs": [],
   "source": []
  }
 ],
 "metadata": {
  "kernelspec": {
   "display_name": "Python 3",
   "language": "python",
   "name": "python3"
  },
  "language_info": {
   "codemirror_mode": {
    "name": "ipython",
    "version": 3
   },
   "file_extension": ".py",
   "mimetype": "text/x-python",
   "name": "python",
   "nbconvert_exporter": "python",
   "pygments_lexer": "ipython3",
   "version": "3.9.1"
  }
 },
 "nbformat": 4,
 "nbformat_minor": 5
}
