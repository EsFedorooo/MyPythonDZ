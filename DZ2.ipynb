{
 "cells": [
  {
   "cell_type": "code",
   "execution_count": 39,
   "id": "agricultural-bacteria",
   "metadata": {},
   "outputs": [],
   "source": [
    "import numpy as np"
   ]
  },
  {
   "cell_type": "markdown",
   "id": "lesbian-activity",
   "metadata": {},
   "source": [
    "\"11\" За квадратною матрицею одержати послідовність чисел обходом матриці \"спіраллю\" за\n",
    "годинниковою стрілкою, розпочавши обхід у лівому верхньому куті."
   ]
  },
  {
   "cell_type": "code",
   "execution_count": 124,
   "id": "dental-passion",
   "metadata": {},
   "outputs": [],
   "source": [
    "n = 5\n",
    "a = np.zeros((n,n), dtype=np.int32)\n"
   ]
  },
  {
   "cell_type": "code",
   "execution_count": null,
   "id": "demographic-handle",
   "metadata": {},
   "outputs": [],
   "source": []
  },
  {
   "cell_type": "code",
   "execution_count": 125,
   "id": "wrapped-judgment",
   "metadata": {},
   "outputs": [],
   "source": [
    "def _AB(t, a, num):\n",
    "    n = a.shape[0]\n",
    "    i = t\n",
    "    for j in range(t, n-t-1):\n",
    "        a[i,j] = num\n",
    "        num += 1\n",
    "    return num"
   ]
  },
  {
   "cell_type": "code",
   "execution_count": 126,
   "id": "democratic-thing",
   "metadata": {},
   "outputs": [],
   "source": [
    "def _BC(t, a, num):\n",
    "    n = a.shape[0]\n",
    "    j = n-t-1\n",
    "    for i in range(t, n-t-1):\n",
    "        a[i,j] = num\n",
    "        num +=1\n",
    "    return num"
   ]
  },
  {
   "cell_type": "code",
   "execution_count": 127,
   "id": "injured-order",
   "metadata": {},
   "outputs": [],
   "source": [
    "def _CD(t, a, num):\n",
    "    n = a.shape[0]\n",
    "    i = n-t-1\n",
    "    for j in range(n-t-1, t, -1):\n",
    "        a[i,j] = num\n",
    "        num += 1\n",
    "    return num"
   ]
  },
  {
   "cell_type": "code",
   "execution_count": 128,
   "id": "asian-assembly",
   "metadata": {},
   "outputs": [],
   "source": [
    "def _DA(t, a, num):\n",
    "    n = a.shape[0]\n",
    "    j = t\n",
    "    for i in range(n-t-1, t, -1):\n",
    "        a[i,j] = num\n",
    "        num += 1\n",
    "    return num"
   ]
  },
  {
   "cell_type": "code",
   "execution_count": 129,
   "id": "hydraulic-cornwall",
   "metadata": {},
   "outputs": [],
   "source": [
    "def move(t, a, num):\n",
    "    num = _AB(t, a, num)\n",
    "    num = _BC(t, a, num)\n",
    "    num = _CD(t, a, num)\n",
    "    num = _DA(t, a, num)\n",
    "    return num"
   ]
  },
  {
   "cell_type": "code",
   "execution_count": 130,
   "id": "constant-typing",
   "metadata": {},
   "outputs": [],
   "source": [
    "def spiral(a):\n",
    "    n=a.shape[0]\n",
    "    m=n//2\n",
    "    num=1\n",
    "    for t in range(m):\n",
    "        num = move(t, a, num)\n",
    "    if n%2:\n",
    "        a[m, m]=num\n",
    "        n += 1\n"
   ]
  },
  {
   "cell_type": "code",
   "execution_count": 131,
   "id": "sexual-allen",
   "metadata": {},
   "outputs": [
    {
     "data": {
      "text/plain": [
       "array([[ 1,  2,  3,  4,  5],\n",
       "       [16, 17, 18, 19,  6],\n",
       "       [15, 24, 25, 20,  7],\n",
       "       [14, 23, 22, 21,  8],\n",
       "       [13, 12, 11, 10,  9]])"
      ]
     },
     "execution_count": 131,
     "metadata": {},
     "output_type": "execute_result"
    }
   ],
   "source": [
    "spiral(a)\n",
    "a"
   ]
  },
  {
   "cell_type": "code",
   "execution_count": null,
   "id": "worth-lightning",
   "metadata": {},
   "outputs": [],
   "source": []
  },
  {
   "cell_type": "code",
   "execution_count": null,
   "id": "terminal-story",
   "metadata": {},
   "outputs": [],
   "source": []
  },
  {
   "cell_type": "code",
   "execution_count": null,
   "id": "seasonal-performance",
   "metadata": {},
   "outputs": [],
   "source": []
  },
  {
   "cell_type": "markdown",
   "id": "future-maldives",
   "metadata": {},
   "source": [
    "\"12\" За квадратною матрицею одержати послідовність чисел обходом \"змійкою\" трикутника над головною\n",
    "діагоналлю матриці, розпочавши обхід у правому верхньому куті та рухаючись діагоналями."
   ]
  },
  {
   "cell_type": "code",
   "execution_count": 161,
   "id": "sweet-straight",
   "metadata": {},
   "outputs": [
    {
     "data": {
      "text/plain": [
       "array([[0, 0, 0, 0, 0, 0, 0, 0],\n",
       "       [0, 0, 0, 0, 0, 0, 0, 0],\n",
       "       [0, 0, 0, 0, 0, 0, 0, 0],\n",
       "       [0, 0, 0, 0, 0, 0, 0, 0],\n",
       "       [0, 0, 0, 0, 0, 0, 0, 0],\n",
       "       [0, 0, 0, 0, 0, 0, 0, 0],\n",
       "       [0, 0, 0, 0, 0, 0, 0, 0],\n",
       "       [0, 0, 0, 0, 0, 0, 0, 0]])"
      ]
     },
     "execution_count": 161,
     "metadata": {},
     "output_type": "execute_result"
    }
   ],
   "source": [
    "n = 8\n",
    "a = np.zeros((n,n), dtype=np.int32)\n",
    "a"
   ]
  },
  {
   "cell_type": "code",
   "execution_count": 162,
   "id": "radio-bleeding",
   "metadata": {},
   "outputs": [],
   "source": [
    "def _down(t,a,num):\n",
    "    n=a.shape[0]\n",
    "    i=0\n",
    "    j=t\n",
    "    while j<n:\n",
    "        a[i,j]=num             \n",
    "        i+=1\n",
    "        j+=1\n",
    "        num+=1\n",
    "    return num"
   ]
  },
  {
   "cell_type": "code",
   "execution_count": 163,
   "id": "electrical-right",
   "metadata": {},
   "outputs": [],
   "source": [
    "def _up(t,a,num):\n",
    "    n=a.shape[0]\n",
    "    i=n-t-1\n",
    "    j=n-1\n",
    "    while i>=0:\n",
    "        a[i,j]=num       \n",
    "        i-=1\n",
    "        j-=1\n",
    "        num+=1\n",
    "    return num"
   ]
  },
  {
   "cell_type": "code",
   "execution_count": null,
   "id": "egyptian-windsor",
   "metadata": {},
   "outputs": [],
   "source": []
  },
  {
   "cell_type": "code",
   "execution_count": 165,
   "id": "pressed-balance",
   "metadata": {},
   "outputs": [],
   "source": [
    "def snake(a):\n",
    "    n = a.shape[0]\n",
    "    num = 1\n",
    "    t=n-1\n",
    "    for _ in range(n//2):\n",
    "        num=_up(t,a,num)\n",
    "        t-=1\n",
    "        num=_down(t,a,num)\n",
    "        t-=1\n",
    "    if t>=0:\n",
    "        num=_up(t,a,num)\n",
    "    return num"
   ]
  },
  {
   "cell_type": "code",
   "execution_count": 166,
   "id": "russian-error",
   "metadata": {},
   "outputs": [
    {
     "data": {
      "text/plain": [
       "array([[29, 28, 16, 15,  7,  6,  2,  1],\n",
       "       [ 0, 30, 27, 17, 14,  8,  5,  3],\n",
       "       [ 0,  0, 31, 26, 18, 13,  9,  4],\n",
       "       [ 0,  0,  0, 32, 25, 19, 12, 10],\n",
       "       [ 0,  0,  0,  0, 33, 24, 20, 11],\n",
       "       [ 0,  0,  0,  0,  0, 34, 23, 21],\n",
       "       [ 0,  0,  0,  0,  0,  0, 35, 22],\n",
       "       [ 0,  0,  0,  0,  0,  0,  0, 36]])"
      ]
     },
     "execution_count": 166,
     "metadata": {},
     "output_type": "execute_result"
    }
   ],
   "source": [
    "snake(a)\n",
    "a"
   ]
  }
 ],
 "metadata": {
  "kernelspec": {
   "display_name": "Python 3",
   "language": "python",
   "name": "python3"
  },
  "language_info": {
   "codemirror_mode": {
    "name": "ipython",
    "version": 3
   },
   "file_extension": ".py",
   "mimetype": "text/x-python",
   "name": "python",
   "nbconvert_exporter": "python",
   "pygments_lexer": "ipython3",
   "version": "3.9.1"
  }
 },
 "nbformat": 4,
 "nbformat_minor": 5
}
